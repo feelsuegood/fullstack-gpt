{
 "cells": [
  {
   "cell_type": "code",
   "execution_count": 46,
   "metadata": {},
   "outputs": [],
   "source": [
    "# import subprocess\n",
    "\n",
    "# def extract_audio_from_video(video_path, audio_path):\n",
    "#     # overwrite audio file\n",
    "#     # command = [\"ffmpeg\", \"-i\", video_path, \"-vn\", audio_path\", \"-y\"]\n",
    "#     command = [\"ffmpeg\", \"-i\", video_path, \"-vn\", audio_path]\n",
    "#     subprocess.run(command)\n",
    "\n",
    "# extract_audio_from_video(\"../files/astrology.mp4\", \"../files/astrology.mp3\")"
   ]
  },
  {
   "cell_type": "code",
   "execution_count": 47,
   "metadata": {},
   "outputs": [],
   "source": [
    "# l =[0,1,2,3,4,5]\n",
    "# # both are same\n",
    "# print(l[0:5])\n",
    "# print(l[:5])\n",
    "# # both are same\n",
    "# print(l[4:])\n",
    "# print(l[4:7])"
   ]
  },
  {
   "cell_type": "code",
   "execution_count": 48,
   "metadata": {},
   "outputs": [],
   "source": [
    "import subprocess\n",
    "from pydub import AudioSegment\n",
    "\n",
    "\n",
    "def extract_audio_from_video(video_path, audio_path):\n",
    "    # overwrite audio file\n",
    "    # command = [\"ffmpeg\", \"-i\", video_path, \"-vn\", audio_path\", \"-y\"]\n",
    "    command = [\"ffmpeg\", \"-i\", video_path, \"-vn\", audio_path]\n",
    "    subprocess.run(command)\n",
    "\n",
    "\n",
    "# extract_audio_from_video(\"../files/astrology.mp4\", \"../files/astrology.mp3\")\n",
    "\n",
    "track = AudioSegment.from_mp3(\"../files/astrology.mp3\")\n",
    "\n",
    "five_minutes = 5 * 60 * 1000"
   ]
  },
  {
   "cell_type": "code",
   "execution_count": 49,
   "metadata": {},
   "outputs": [],
   "source": [
    "# first_five = track[:five_minutes]\n",
    "\n",
    "# first_five.export(\"../files/first_five.mp3\", format=\"mp3\")"
   ]
  },
  {
   "cell_type": "code",
   "execution_count": 50,
   "metadata": {},
   "outputs": [],
   "source": [
    "import math\n",
    "\n",
    "# ceil <-> floor\n",
    "chunks = math.ceil(len(track) / five_minutes)\n",
    "\n",
    "for i in range(chunks):\n",
    "    # print(i)\n",
    "    start_time = i * five_minutes\n",
    "    end_time = (i + 1) * five_minutes\n",
    "    # print(f\"start: {start_time}, end: {end_time}\")\n",
    "    chunk = track[start_time:end_time]\n",
    "    chunk.export(f\"../files/chunks/chunk_{i}.mp3\", format=\"mp3\")"
   ]
  }
 ],
 "metadata": {
  "kernelspec": {
   "display_name": "env",
   "language": "python",
   "name": "python3"
  },
  "language_info": {
   "codemirror_mode": {
    "name": "ipython",
    "version": 3
   },
   "file_extension": ".py",
   "mimetype": "text/x-python",
   "name": "python",
   "nbconvert_exporter": "python",
   "pygments_lexer": "ipython3",
   "version": "3.11.12"
  }
 },
 "nbformat": 4,
 "nbformat_minor": 2
}
